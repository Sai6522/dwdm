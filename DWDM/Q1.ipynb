{
  "nbformat": 4,
  "nbformat_minor": 0,
  "metadata": {
    "colab": {
      "provenance": []
    },
    "kernelspec": {
      "name": "python3",
      "display_name": "Python 3"
    },
    "language_info": {
      "name": "python"
    }
  },
  "cells": [
    {
      "cell_type": "code",
      "execution_count": 1,
      "metadata": {
        "id": "NWscH1k5BDVN"
      },
      "outputs": [],
      "source": [
        "import pandas as pd\n",
        "from sklearn.datasets import load_breast_cancer"
      ]
    },
    {
      "cell_type": "code",
      "source": [
        "data = pd.DataFrame(breast_cancer, columns = breast_cancer.feature_names)"
      ],
      "metadata": {
        "id": "uzvris0JDBXA"
      },
      "execution_count": 3,
      "outputs": []
    },
    {
      "cell_type": "code",
      "source": [
        "data['target'] = breast_cancer.target"
      ],
      "metadata": {
        "id": "LYnBbDkMDN6l"
      },
      "execution_count": 4,
      "outputs": []
    },
    {
      "cell_type": "code",
      "source": [
        "missing_values = data.isnull().sum()"
      ],
      "metadata": {
        "id": "pSc-uJMMDW-o"
      },
      "execution_count": 5,
      "outputs": []
    },
    {
      "cell_type": "code",
      "source": [
        "print(missing_values)"
      ],
      "metadata": {
        "colab": {
          "base_uri": "https://localhost:8080/"
        },
        "id": "XljvSguzDdyE",
        "outputId": "9dacdf95-7b92-4ecb-8075-8daf73196530"
      },
      "execution_count": 6,
      "outputs": [
        {
          "output_type": "stream",
          "name": "stdout",
          "text": [
            "mean radius                569\n",
            "mean texture               569\n",
            "mean perimeter             569\n",
            "mean area                  569\n",
            "mean smoothness            569\n",
            "mean compactness           569\n",
            "mean concavity             569\n",
            "mean concave points        569\n",
            "mean symmetry              569\n",
            "mean fractal dimension     569\n",
            "radius error               569\n",
            "texture error              569\n",
            "perimeter error            569\n",
            "area error                 569\n",
            "smoothness error           569\n",
            "compactness error          569\n",
            "concavity error            569\n",
            "concave points error       569\n",
            "symmetry error             569\n",
            "fractal dimension error    569\n",
            "worst radius               569\n",
            "worst texture              569\n",
            "worst perimeter            569\n",
            "worst area                 569\n",
            "worst smoothness           569\n",
            "worst compactness          569\n",
            "worst concavity            569\n",
            "worst concave points       569\n",
            "worst symmetry             569\n",
            "worst fractal dimension    569\n",
            "target                       0\n",
            "dtype: int64\n"
          ]
        }
      ]
    },
    {
      "cell_type": "code",
      "source": [],
      "metadata": {
        "id": "ChMnbkonDiey"
      },
      "execution_count": null,
      "outputs": []
    }
  ]
}